{
 "cells": [
  {
   "cell_type": "markdown",
   "metadata": {},
   "source": [
    "# Collecting Data from PDFs"
   ]
  },
  {
   "cell_type": "markdown",
   "metadata": {},
   "source": [
    "installation's"
   ]
  },
  {
   "cell_type": "code",
   "execution_count": 3,
   "metadata": {},
   "outputs": [
    {
     "name": "stdout",
     "output_type": "stream",
     "text": [
      "Requirement already satisfied: pip in /home/codespace/.python/current/lib/python3.12/site-packages (24.3.1)\n",
      "Collecting pip\n",
      "  Downloading pip-25.0.1-py3-none-any.whl.metadata (3.7 kB)\n",
      "Downloading pip-25.0.1-py3-none-any.whl (1.8 MB)\n",
      "\u001b[2K   \u001b[90m━━━━━━━━━━━━━━━━━━━━━━━━━━━━━━━━━━━━━━━━\u001b[0m \u001b[32m1.8/1.8 MB\u001b[0m \u001b[31m10.0 MB/s\u001b[0m eta \u001b[36m0:00:00\u001b[0m \u001b[36m0:00:01\u001b[0m\n",
      "\u001b[?25hInstalling collected packages: pip\n",
      "  Attempting uninstall: pip\n",
      "    Found existing installation: pip 24.3.1\n",
      "    Uninstalling pip-24.3.1:\n",
      "      Successfully uninstalled pip-24.3.1\n",
      "Successfully installed pip-25.0.1\n",
      "Requirement already satisfied: PyPDF2 in /home/codespace/.python/current/lib/python3.12/site-packages (3.0.1)\n"
     ]
    }
   ],
   "source": [
    "!python3 -m pip install --upgrade pip\n",
    "!pip install PyPDF2"
   ]
  },
  {
   "cell_type": "code",
   "execution_count": 5,
   "metadata": {},
   "outputs": [],
   "source": [
    "import PyPDF2\n",
    "from PyPDF2 import PdfFileReader"
   ]
  },
  {
   "cell_type": "code",
   "execution_count": 7,
   "metadata": {},
   "outputs": [],
   "source": [
    "#Creating a pdf file object\n",
    "pdf = open(\"./pdfs_files/file_1.pdf\",\"rb\")\n",
    "#creating pdf reader object\n",
    "pdf_reader = PyPDF2.PdfReader(pdf)"
   ]
  },
  {
   "cell_type": "code",
   "execution_count": 14,
   "metadata": {},
   "outputs": [
    {
     "name": "stdout",
     "output_type": "stream",
     "text": [
      "32\n"
     ]
    }
   ],
   "source": [
    "#checking number of pages in a pdf file\n",
    "print(len(pdf_reader.pages))\n",
    "#creating a page object\n",
    "page = pdf_reader.pages[1]"
   ]
  },
  {
   "cell_type": "code",
   "execution_count": 16,
   "metadata": {},
   "outputs": [
    {
     "name": "stdout",
     "output_type": "stream",
     "text": [
      "2\n",
      "Artificial Intelligence Machine Learning Brain-Inspired Spiking  Neural Networks Deep Learning \n",
      "Fig. 1. Deep Learning in the context of Artiﬁcial Intelligence.\n",
      "achieve goals like humans do, according to John McCarthy,\n",
      "the computer scientist who coined the term in the 1950s.\n",
      "The relationship of deep learning to the whole of artiﬁcial\n",
      "intelligence is illustrated in Fig. 1.\n",
      "Within artiﬁcial intelligence is a large sub-ﬁeld called\n",
      "machine learning, which was deﬁned in 1959 by Arthur Samuel\n",
      "as the ﬁeld of study that gives computers the ability to learn\n",
      "without being explicitly programmed. That means a single\n",
      "program, once created, will be able to learn how to do some\n",
      "intelligent activities outside the notion of programming. This is\n",
      "in contrast to purpose-built programs whose behavior is deﬁned\n",
      "by hand-crafted heuristics that explicitly and statically deﬁne\n",
      "their behavior.\n",
      "The advantage of an effective machine learning algorithm\n",
      "is clear. Instead of the laborious and hit-or-miss approach of\n",
      "creating a distinct, custom program to solve each individual\n",
      "problem in a domain, the single machine learning algorithm\n",
      "simply needs to learn, via a processes called training , to handle\n",
      "each new problem.\n",
      "Within the machine learning ﬁeld, there is an area that is\n",
      "often referred to as brain-inspired computation. Since the brain\n",
      "is currently the best ‘machine’ we know for learning and\n",
      "solving problems, it is a natural place to look for a machine\n",
      "learning approach. Therefore, a brain-inspired computation is\n",
      "a program or algorithm that takes some aspects of its basic\n",
      "form or functionality from the way the brain works. This is in\n",
      "contrast to attempts to create a brain, but rather the program\n",
      "aims to emulate some aspects of how we understand the brain\n",
      "to operate.\n",
      "Although scientists are still exploring the details of how the\n",
      "brain works, it is generally believed that the main computational\n",
      "element of the brain is the neuron . There are approximately\n",
      "86 billion neurons in the average human brain. The neurons\n",
      "themselves are connected together with a number of elements\n",
      "entering them called dendrites and an element leaving them\n",
      "called an axon as shown in Fig. 2. The neuron accepts the\n",
      "signals entering it via the dendrites, performs a computation on\n",
      "those signals, and generates a signal on the axon. These input\n",
      "and output signals are referred to as activations . The axon of\n",
      "one neuron branches out and is connected to the dendrites of\n",
      "many other neurons. The connections between a branch of the\n",
      "axon and a dendrite is called a synapse . There are estimated\n",
      "yj=fwixii∑+b⎛⎝⎜⎞⎠⎟w1x1w2x2w0x0x0w0synapse axon dendrite axon neuron yjFig. 2. Connections to a neuron in the brain. xi,wi,f(\u0001), and bare the\n",
      "activations, weights, non-linear function and bias, respectively. (Figure adopted\n",
      "from [7].)\n",
      "to be 1014to1015synapses in the average human brain.\n",
      "A key characteristic of the synapse is that it can scale the\n",
      "signal (xi) crossing it as shown in Fig. 2. That scaling factor\n",
      "can be referred to as a weight (wi), and the way the brain is\n",
      "believed to learn is through changes to the weights associated\n",
      "with the synapses. Thus, different weights result in different\n",
      "responses to an input. Note that learning is the adjustment\n",
      "of the weights in response to a learning stimulus, while the\n",
      "organization (what might be thought of as the program) of the\n",
      "brain does not change. This characteristic makes the brain an\n",
      "excellent inspiration for a machine-learning-style algorithm.\n",
      "Within the brain-inspired computing paradigm there is a\n",
      "subarea called spiking computing. In this subarea, inspiration\n",
      "is taken from the fact that the communication on the dendrites\n",
      "and axons are spike-like pulses and that the information being\n",
      "conveyed is not just based on a spike’s amplitude. Instead,\n",
      "it also depends on the time the pulse arrives and that the\n",
      "computation that happens in the neuron is a function of not just\n",
      "a single value but the width of pulse and the timing relationship\n",
      "between different pulses. An example of a project that was\n",
      "inspired by the spiking of the brain is the IBM TrueNorth [ 8].\n",
      "In contrast to spiking computing, another subarea of brain-\n",
      "inspired computing is called neural networks, which is the\n",
      "focus of this article.1\n",
      "B. Neural Networks and Deep Neural Networks (DNNs)\n",
      "Neural networks take their inspiration from the notion that\n",
      "a neuron’s computation involves a weighted sum of the input\n",
      "values. These weighted sums correspond to the value scaling\n",
      "performed by the synapses and the combining of those values\n",
      "in the neuron. Furthermore, the neuron doesn’t just output that\n",
      "weighted sum, since the computation associated with a cascade\n",
      "of neurons would then be a simple linear algebra operation.\n",
      "Instead there is a functional operation within the neuron that\n",
      "is performed on the combined inputs. This operation appears\n",
      "to be a non-linear function that causes a neuron to generate\n",
      "an output only if the inputs cross some threshold. Thus by\n",
      "analogy, neural networks apply a non-linear function to the\n",
      "weighted sum of the input values. We look at what some of\n",
      "those non-linear functions are in Section III-A1.\n",
      "1Note: Recent work using TrueNorth in a stylized fashion allows it to be\n",
      "used to compute reduced precision neural networks [ 9]. These types of neural\n",
      "networks are discussed in Section VII-A.\n"
     ]
    }
   ],
   "source": [
    "#finally extracting text from the page\n",
    "print(page.extract_text())"
   ]
  },
  {
   "cell_type": "code",
   "execution_count": 17,
   "metadata": {},
   "outputs": [],
   "source": [
    "#closing the pdf file\n",
    "pdf.close()"
   ]
  }
 ],
 "metadata": {
  "kernelspec": {
   "display_name": "Python 3",
   "language": "python",
   "name": "python3"
  },
  "language_info": {
   "codemirror_mode": {
    "name": "ipython",
    "version": 3
   },
   "file_extension": ".py",
   "mimetype": "text/x-python",
   "name": "python",
   "nbconvert_exporter": "python",
   "pygments_lexer": "ipython3",
   "version": "3.12.1"
  }
 },
 "nbformat": 4,
 "nbformat_minor": 2
}
